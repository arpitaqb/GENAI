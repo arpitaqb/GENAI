{
 "cells": [
  {
   "cell_type": "markdown",
   "id": "e5656b03",
   "metadata": {},
   "source": [
    "### simple llm application with LCEL(LangChain Expression Language)\n"
   ]
  },
  {
   "cell_type": "code",
   "execution_count": 11,
   "id": "08c4f87e",
   "metadata": {},
   "outputs": [
    {
     "data": {
      "text/plain": [
       "True"
      ]
     },
     "execution_count": 11,
     "metadata": {},
     "output_type": "execute_result"
    }
   ],
   "source": [
    "import os\n",
    "from dotenv import load_dotenv\n",
    "load_dotenv()"
   ]
  },
  {
   "cell_type": "code",
   "execution_count": 12,
   "id": "fbdae6a6",
   "metadata": {},
   "outputs": [],
   "source": [
    "from langchain_google_genai import GoogleGenerativeAI\n",
    "os.environ['GEMINI_API_KEY']= os.getenv('GEMINI_API_KEY')\n",
    "groq_api_key = os.getenv('GROQ_API_KEY')\n"
   ]
  },
  {
   "cell_type": "code",
   "execution_count": 13,
   "id": "4209c839",
   "metadata": {},
   "outputs": [],
   "source": [
    "from langchain_google_genai import ChatGoogleGenerativeAI\n",
    "from langchain_groq import ChatGroq\n",
    "\n",
    "model = ChatGroq(model=\"Gemma2-9b-It\", groq_api_key= groq_api_key)\n"
   ]
  },
  {
   "cell_type": "code",
   "execution_count": 14,
   "id": "c6e6e156",
   "metadata": {},
   "outputs": [
    {
     "data": {
      "text/plain": [
       "AIMessage(content='How are you? in Gujarati can be translated in a few ways, depending on the level of formality:\\n\\n**Informal:**\\n\\n* **તમે કેમ છો?** (Tame kem chho?) - This is the most common and informal way to ask \"How are you?\".\\n\\n**Formal:**\\n\\n* **તમે કેમ છો?** (Tame kem chho?) - Even in a formal setting, this can be used.\\n\\n* **આપ કেমી છો?** (Aap kemi chho?) - This is a more formal way to say \"How are you?\".  It is used when addressing someone older or in a position of authority.\\n\\n\\n\\nLet me know if you\\'d like to know more about Gujarati greetings!\\n', additional_kwargs={}, response_metadata={'token_usage': {'completion_tokens': 161, 'prompt_tokens': 19, 'total_tokens': 180, 'completion_time': 0.292727273, 'prompt_time': 0.003495622, 'queue_time': 0.263191597, 'total_time': 0.296222895}, 'model_name': 'Gemma2-9b-It', 'system_fingerprint': 'fp_10c08bf97d', 'finish_reason': 'stop', 'logprobs': None}, id='run--700a6eb5-c215-4fca-ae31-acecf962253f-0', usage_metadata={'input_tokens': 19, 'output_tokens': 161, 'total_tokens': 180})"
      ]
     },
     "execution_count": 14,
     "metadata": {},
     "output_type": "execute_result"
    }
   ],
   "source": [
    "from langchain_core.messages import HumanMessage, SystemMessage\n",
    "\n",
    "message = [\n",
    "    SystemMessage(content=\"Translate english into gujrati\"),\n",
    "    HumanMessage(content=\"how are you?\")\n",
    "]\n",
    "\n",
    "result = model.invoke(message)\n",
    "result"
   ]
  },
  {
   "cell_type": "code",
   "execution_count": 15,
   "id": "4bc09cf9",
   "metadata": {},
   "outputs": [
    {
     "data": {
      "text/plain": [
       "'How are you? in Gujarati can be translated in a few ways, depending on the level of formality:\\n\\n**Informal:**\\n\\n* **તમે કેમ છો?** (Tame kem chho?) - This is the most common and informal way to ask \"How are you?\".\\n\\n**Formal:**\\n\\n* **તમે કેમ છો?** (Tame kem chho?) - Even in a formal setting, this can be used.\\n\\n* **આપ કেমી છો?** (Aap kemi chho?) - This is a more formal way to say \"How are you?\".  It is used when addressing someone older or in a position of authority.\\n\\n\\n\\nLet me know if you\\'d like to know more about Gujarati greetings!\\n'"
      ]
     },
     "execution_count": 15,
     "metadata": {},
     "output_type": "execute_result"
    }
   ],
   "source": [
    "from langchain_core.output_parsers import StrOutputParser\n",
    "parser = StrOutputParser()\n",
    "parser.invoke(result)"
   ]
  },
  {
   "cell_type": "code",
   "execution_count": 16,
   "id": "6008891f",
   "metadata": {},
   "outputs": [
    {
     "data": {
      "text/plain": [
       "'The Gujarati translation for \"How are you?\" is:\\n\\n**તમે કેમ છો? (Tame kem cho?)** \\n\\n\\nThis is the most common and polite way to ask \"How are you?\" in Gujarati. \\n'"
      ]
     },
     "execution_count": 16,
     "metadata": {},
     "output_type": "execute_result"
    }
   ],
   "source": [
    "# LCEL- chain the components it will directly give prse output \n",
    "chain = model|parser\n",
    "chain.invoke(message)"
   ]
  },
  {
   "cell_type": "code",
   "execution_count": 17,
   "id": "448cf64a",
   "metadata": {},
   "outputs": [],
   "source": [
    "from langchain_core.prompts import ChatPromptTemplate\n",
    "\n",
    "template = \"translate into {lan}:\"\n",
    "\n",
    "prompt = ChatPromptTemplate.from_messages(\n",
    "    [(\"system\", template), (\"user\", \"{text}\")]\n",
    ") "
   ]
  },
  {
   "cell_type": "code",
   "execution_count": 18,
   "id": "73e1e84c",
   "metadata": {},
   "outputs": [
    {
     "data": {
      "text/plain": [
       "[SystemMessage(content='translate into gujrati:', additional_kwargs={}, response_metadata={}),\n",
       " HumanMessage(content='hello', additional_kwargs={}, response_metadata={})]"
      ]
     },
     "execution_count": 18,
     "metadata": {},
     "output_type": "execute_result"
    }
   ],
   "source": [
    "result = prompt.invoke({\"lan\":\"gujrati\", \"text\":\"hello\"})\n",
    "result.to_messages()"
   ]
  },
  {
   "cell_type": "code",
   "execution_count": 19,
   "id": "86d71394",
   "metadata": {},
   "outputs": [
    {
     "data": {
      "text/plain": [
       "'નમસ્તે (Namaste) \\n'"
      ]
     },
     "execution_count": 19,
     "metadata": {},
     "output_type": "execute_result"
    }
   ],
   "source": [
    "chain = prompt|model|parser\n",
    "chain.invoke({\"lan\":\"gujrati\", \"text\":\"hello\"})"
   ]
  },
  {
   "cell_type": "code",
   "execution_count": null,
   "id": "a6bb444d",
   "metadata": {},
   "outputs": [],
   "source": []
  }
 ],
 "metadata": {
  "kernelspec": {
   "display_name": "langchain-env",
   "language": "python",
   "name": "python3"
  },
  "language_info": {
   "codemirror_mode": {
    "name": "ipython",
    "version": 3
   },
   "file_extension": ".py",
   "mimetype": "text/x-python",
   "name": "python",
   "nbconvert_exporter": "python",
   "pygments_lexer": "ipython3",
   "version": "3.10.18"
  }
 },
 "nbformat": 4,
 "nbformat_minor": 5
}
