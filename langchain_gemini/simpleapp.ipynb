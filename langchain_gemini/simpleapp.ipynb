{
 "cells": [
  {
   "cell_type": "markdown",
   "id": "59a159ac",
   "metadata": {},
   "source": [
    "### simple APP using langchain"
   ]
  },
  {
   "cell_type": "code",
   "execution_count": 2,
   "id": "1c9cdd2a",
   "metadata": {},
   "outputs": [
    {
     "data": {
      "text/plain": [
       "True"
      ]
     },
     "execution_count": 2,
     "metadata": {},
     "output_type": "execute_result"
    }
   ],
   "source": [
    "import os\n",
    "from dotenv import load_dotenv\n",
    "load_dotenv()"
   ]
  },
  {
   "cell_type": "code",
   "execution_count": 3,
   "id": "99c6df70",
   "metadata": {},
   "outputs": [],
   "source": [
    "os.environ['GEMINI_API_KEY']= os.getenv('GEMINI_API_KEY')\n",
    "os.environ['LANGCHAIN_API_KEY']= os.getenv('LANGCHAIN_API_KEY')\n",
    "os.environ['LANGCHAIN_TRACING_V2'] = 'True'\n",
    "os.environ['LANGCHAIN_PROJECT'] = os.getenv('LANGCHAIN_PROJECT')\n",
    "os.environ['GOOGLE_API_KEY'] = os.getenv('GOOGLE_API_KEY')"
   ]
  },
  {
   "cell_type": "code",
   "execution_count": 4,
   "id": "868aa5a2",
   "metadata": {},
   "outputs": [
    {
     "name": "stderr",
     "output_type": "stream",
     "text": [
      "USER_AGENT environment variable not set, consider setting it to identify your requests.\n"
     ]
    }
   ],
   "source": [
    "#load data from web\n",
    "from langchain_community.document_loaders import WebBaseLoader"
   ]
  },
  {
   "cell_type": "code",
   "execution_count": 5,
   "id": "ae0145c5",
   "metadata": {},
   "outputs": [
    {
     "data": {
      "text/plain": [
       "[Document(metadata={'source': 'https://docs.smith.langchain.com/prompt_engineering/quickstarts/quickstart_ui', 'title': 'Prompt Engineering Quick Start (UI) | 🦜️🛠️ LangSmith', 'description': 'This quick start will walk through how to create, test, and iterate on prompts in LangSmith.', 'language': 'en'}, page_content='\\n\\n\\n\\n\\nPrompt Engineering Quick Start (UI) | 🦜️🛠️ LangSmith\\n\\n\\n\\n\\n\\n\\n\\n\\nSkip to main contentOur Building Ambient Agents with LangGraph course is now available on LangChain Academy!API ReferenceRESTPythonJS/TSSearchRegionUSEUGo to AppGet StartedObservabilityEvaluationPrompt EngineeringQuickstartsQuick Start (UI)Quick Start (SDK)TutorialsOptimize a classifierSync Prompts with GitHubHow-to GuidesCreate a promptRun the playground against a custom LangServe model serverRun the playground against an OpenAI-compliant model provider/proxyUpdate a promptManage prompts programmaticallyManaging Prompt SettingsCommit TagsOpen a prompt from a tracePublic prompt hubPrompt CanvasInclude multimodal content in a promptTrigger a webhook on prompt commitUse tools in a promptHow to use multiple messages in the playgroundConceptual GuideDeployment (LangGraph Platform)AdministrationSelf-hostingPricingReferenceCloud architecture and scalabilityAuthz and AuthnAuthentication methodsdata_formatsEvaluationDataset transformationsRegions FAQsdk_referencePrompt EngineeringOn this pagePrompt Engineering Quick Start (UI)\\nThis quick start will walk through how to create, test, and iterate on prompts in LangSmith.\\nQuickStartThis tutorial uses the UI for prompt engineering, if you are interested in using the SDK instead, read this guide.\\n1. Setup\\u200b\\nThe only setup needed for this guide is to make sure you have signed up for a LangSmith account.\\n2. Create a prompt\\u200b\\nTo create a prompt in LangSmith, navigate to the Prompts section of the left-hand sidebar and click on the “+ New Prompt” button.\\nYou can then modify the prompt by editing/adding messages and input variables.\\n\\n3. Test a prompt\\u200b\\nTo test a prompt, set the model configuration you want to use, add your LLM provider\\'s API key, specify the prompt input values you want to test, and then click \"Start\".\\nTo learn about more options for configuring your prompt in the playground, check out this guide.\\nIf you are interested in testing how your prompt performs over a dataset instead of individual examples, read this page.\\n\\n4. Save a prompt\\u200b\\nOne you have run some tests and made your desired changes to your prompt you can click the “Save” button to save your prompt for future use.\\n\\n5. Iterate on a prompt\\u200b\\nLangSmith makes it easy to iterate on prompts with your entire team. Members of your workspace can select a prompt to iterate on in the playground,\\nand once they are happy with their changes, they can simply save it as a new commit.\\nTo improve your prompts:\\n\\n\\nWe recommend referencing the documentation provided by your model provider for best practices in prompt creation,\\nsuch as Best practices for prompt engineering with the OpenAI API and Gemini’s Introduction to prompt design.\\n\\n\\nTo help with iterating on your prompts in LangSmith, we\\'ve created Prompt Canvas —\\xa0an interactive tool to build and optimize your prompts.\\nLearn about how to use Prompt Canvas.\\n\\n\\n\\nYou can also tag specific commits to mark important moments in your commit history:\\n\\n6. Next steps\\u200b\\n\\nLearn more about how to store and manage prompts using the Prompt Hub in these how-to guides\\nLearn more about how to use the playground for prompt engineering in these how-to guides\\nWas this page helpful?You can leave detailed feedback on GitHub.PreviousConceptual GuideNextQuick Start (UI)1. Setup2. Create a prompt3. Test a prompt4. Save a prompt5. Iterate on a prompt6. Next stepsCommunityLangChain ForumTwitterGitHubDocs CodeLangSmith SDKPythonJS/TSMoreHomepageBlogLangChain Python DocsLangChain JS/TS DocsCopyright © 2025 LangChain, Inc.\\n\\n')]"
      ]
     },
     "execution_count": 5,
     "metadata": {},
     "output_type": "execute_result"
    }
   ],
   "source": [
    "loader = WebBaseLoader(\"https://docs.smith.langchain.com/prompt_engineering/quickstarts/quickstart_ui\")\n",
    "doc = loader.load()\n",
    "doc"
   ]
  },
  {
   "cell_type": "code",
   "execution_count": 6,
   "id": "be88f8a8",
   "metadata": {},
   "outputs": [
    {
     "data": {
      "text/plain": [
       "[Document(metadata={'source': 'https://docs.smith.langchain.com/prompt_engineering/quickstarts/quickstart_ui', 'title': 'Prompt Engineering Quick Start (UI) | 🦜️🛠️ LangSmith', 'description': 'This quick start will walk through how to create, test, and iterate on prompts in LangSmith.', 'language': 'en'}, page_content='Prompt Engineering Quick Start (UI) | 🦜️🛠️ LangSmith'),\n",
       " Document(metadata={'source': 'https://docs.smith.langchain.com/prompt_engineering/quickstarts/quickstart_ui', 'title': 'Prompt Engineering Quick Start (UI) | 🦜️🛠️ LangSmith', 'description': 'This quick start will walk through how to create, test, and iterate on prompts in LangSmith.', 'language': 'en'}, page_content='Skip to main contentOur Building Ambient Agents with LangGraph course is now available on LangChain Academy!API ReferenceRESTPythonJS/TSSearchRegionUSEUGo to AppGet StartedObservabilityEvaluationPrompt EngineeringQuickstartsQuick Start (UI)Quick Start (SDK)TutorialsOptimize a classifierSync Prompts with GitHubHow-to GuidesCreate a promptRun the playground against a custom LangServe model serverRun the playground against an OpenAI-compliant model provider/proxyUpdate a promptManage prompts'),\n",
       " Document(metadata={'source': 'https://docs.smith.langchain.com/prompt_engineering/quickstarts/quickstart_ui', 'title': 'Prompt Engineering Quick Start (UI) | 🦜️🛠️ LangSmith', 'description': 'This quick start will walk through how to create, test, and iterate on prompts in LangSmith.', 'language': 'en'}, page_content='model provider/proxyUpdate a promptManage prompts programmaticallyManaging Prompt SettingsCommit TagsOpen a prompt from a tracePublic prompt hubPrompt CanvasInclude multimodal content in a promptTrigger a webhook on prompt commitUse tools in a promptHow to use multiple messages in the playgroundConceptual GuideDeployment (LangGraph Platform)AdministrationSelf-hostingPricingReferenceCloud architecture and scalabilityAuthz and AuthnAuthentication methodsdata_formatsEvaluationDataset'),\n",
       " Document(metadata={'source': 'https://docs.smith.langchain.com/prompt_engineering/quickstarts/quickstart_ui', 'title': 'Prompt Engineering Quick Start (UI) | 🦜️🛠️ LangSmith', 'description': 'This quick start will walk through how to create, test, and iterate on prompts in LangSmith.', 'language': 'en'}, page_content='methodsdata_formatsEvaluationDataset transformationsRegions FAQsdk_referencePrompt EngineeringOn this pagePrompt Engineering Quick Start (UI)'),\n",
       " Document(metadata={'source': 'https://docs.smith.langchain.com/prompt_engineering/quickstarts/quickstart_ui', 'title': 'Prompt Engineering Quick Start (UI) | 🦜️🛠️ LangSmith', 'description': 'This quick start will walk through how to create, test, and iterate on prompts in LangSmith.', 'language': 'en'}, page_content='This quick start will walk through how to create, test, and iterate on prompts in LangSmith.\\nQuickStartThis tutorial uses the UI for prompt engineering, if you are interested in using the SDK instead, read this guide.\\n1. Setup\\u200b\\nThe only setup needed for this guide is to make sure you have signed up for a LangSmith account.\\n2. Create a prompt\\u200b\\nTo create a prompt in LangSmith, navigate to the Prompts section of the left-hand sidebar and click on the “+ New Prompt” button.'),\n",
       " Document(metadata={'source': 'https://docs.smith.langchain.com/prompt_engineering/quickstarts/quickstart_ui', 'title': 'Prompt Engineering Quick Start (UI) | 🦜️🛠️ LangSmith', 'description': 'This quick start will walk through how to create, test, and iterate on prompts in LangSmith.', 'language': 'en'}, page_content='You can then modify the prompt by editing/adding messages and input variables.'),\n",
       " Document(metadata={'source': 'https://docs.smith.langchain.com/prompt_engineering/quickstarts/quickstart_ui', 'title': 'Prompt Engineering Quick Start (UI) | 🦜️🛠️ LangSmith', 'description': 'This quick start will walk through how to create, test, and iterate on prompts in LangSmith.', 'language': 'en'}, page_content='3. Test a prompt\\u200b\\nTo test a prompt, set the model configuration you want to use, add your LLM provider\\'s API key, specify the prompt input values you want to test, and then click \"Start\".\\nTo learn about more options for configuring your prompt in the playground, check out this guide.\\nIf you are interested in testing how your prompt performs over a dataset instead of individual examples, read this page.'),\n",
       " Document(metadata={'source': 'https://docs.smith.langchain.com/prompt_engineering/quickstarts/quickstart_ui', 'title': 'Prompt Engineering Quick Start (UI) | 🦜️🛠️ LangSmith', 'description': 'This quick start will walk through how to create, test, and iterate on prompts in LangSmith.', 'language': 'en'}, page_content='4. Save a prompt\\u200b\\nOne you have run some tests and made your desired changes to your prompt you can click the “Save” button to save your prompt for future use.\\n\\n5. Iterate on a prompt\\u200b\\nLangSmith makes it easy to iterate on prompts with your entire team. Members of your workspace can select a prompt to iterate on in the playground,\\nand once they are happy with their changes, they can simply save it as a new commit.\\nTo improve your prompts:'),\n",
       " Document(metadata={'source': 'https://docs.smith.langchain.com/prompt_engineering/quickstarts/quickstart_ui', 'title': 'Prompt Engineering Quick Start (UI) | 🦜️🛠️ LangSmith', 'description': 'This quick start will walk through how to create, test, and iterate on prompts in LangSmith.', 'language': 'en'}, page_content=\"We recommend referencing the documentation provided by your model provider for best practices in prompt creation,\\nsuch as Best practices for prompt engineering with the OpenAI API and Gemini’s Introduction to prompt design.\\n\\n\\nTo help with iterating on your prompts in LangSmith, we've created Prompt Canvas —\\xa0an interactive tool to build and optimize your prompts.\\nLearn about how to use Prompt Canvas.\\n\\n\\n\\nYou can also tag specific commits to mark important moments in your commit history:\"),\n",
       " Document(metadata={'source': 'https://docs.smith.langchain.com/prompt_engineering/quickstarts/quickstart_ui', 'title': 'Prompt Engineering Quick Start (UI) | 🦜️🛠️ LangSmith', 'description': 'This quick start will walk through how to create, test, and iterate on prompts in LangSmith.', 'language': 'en'}, page_content='6. Next steps\\u200b'),\n",
       " Document(metadata={'source': 'https://docs.smith.langchain.com/prompt_engineering/quickstarts/quickstart_ui', 'title': 'Prompt Engineering Quick Start (UI) | 🦜️🛠️ LangSmith', 'description': 'This quick start will walk through how to create, test, and iterate on prompts in LangSmith.', 'language': 'en'}, page_content='Learn more about how to store and manage prompts using the Prompt Hub in these how-to guides\\nLearn more about how to use the playground for prompt engineering in these how-to guides'),\n",
       " Document(metadata={'source': 'https://docs.smith.langchain.com/prompt_engineering/quickstarts/quickstart_ui', 'title': 'Prompt Engineering Quick Start (UI) | 🦜️🛠️ LangSmith', 'description': 'This quick start will walk through how to create, test, and iterate on prompts in LangSmith.', 'language': 'en'}, page_content='Was this page helpful?You can leave detailed feedback on GitHub.PreviousConceptual GuideNextQuick Start (UI)1. Setup2. Create a prompt3. Test a prompt4. Save a prompt5. Iterate on a prompt6. Next stepsCommunityLangChain ForumTwitterGitHubDocs CodeLangSmith SDKPythonJS/TSMoreHomepageBlogLangChain Python DocsLangChain JS/TS DocsCopyright © 2025 LangChain, Inc.')]"
      ]
     },
     "execution_count": 6,
     "metadata": {},
     "output_type": "execute_result"
    }
   ],
   "source": [
    "#split loaded data\n",
    "from langchain_text_splitters import RecursiveCharacterTextSplitter\n",
    "\n",
    "split = RecursiveCharacterTextSplitter(chunk_size = 500, chunk_overlap = 50)\n",
    "docs = split.split_documents(doc)\n",
    "docs"
   ]
  },
  {
   "cell_type": "code",
   "execution_count": 7,
   "id": "d403dfa8",
   "metadata": {},
   "outputs": [
    {
     "name": "stderr",
     "output_type": "stream",
     "text": [
      "c:\\Users\\User1\\anaconda3\\envs\\langchain-env\\lib\\site-packages\\tqdm\\auto.py:21: TqdmWarning: IProgress not found. Please update jupyter and ipywidgets. See https://ipywidgets.readthedocs.io/en/stable/user_install.html\n",
      "  from .autonotebook import tqdm as notebook_tqdm\n"
     ]
    }
   ],
   "source": [
    "#embedding\n",
    "from langchain_google_genai import GoogleGenerativeAIEmbeddings\n",
    "\n",
    "embedding = GoogleGenerativeAIEmbeddings(model=\"models/embedding-001\")\n"
   ]
  },
  {
   "cell_type": "code",
   "execution_count": 8,
   "id": "f1bcf04b",
   "metadata": {},
   "outputs": [
    {
     "data": {
      "text/plain": [
       "<langchain_community.vectorstores.faiss.FAISS at 0x2a920c5c4f0>"
      ]
     },
     "execution_count": 8,
     "metadata": {},
     "output_type": "execute_result"
    }
   ],
   "source": [
    "from langchain_community.vectorstores import FAISS\n",
    "vectordb = FAISS.from_documents(docs, embedding)\n",
    "vectordb"
   ]
  },
  {
   "cell_type": "code",
   "execution_count": 9,
   "id": "565d5dee",
   "metadata": {},
   "outputs": [
    {
     "data": {
      "text/plain": [
       "'4. Save a prompt\\u200b\\nOne you have run some tests and made your desired changes to your prompt you can click the “Save” button to save your prompt for future use.\\n\\n5. Iterate on a prompt\\u200b\\nLangSmith makes it easy to iterate on prompts with your entire team. Members of your workspace can select a prompt to iterate on in the playground,\\nand once they are happy with their changes, they can simply save it as a new commit.\\nTo improve your prompts:'"
      ]
     },
     "execution_count": 9,
     "metadata": {},
     "output_type": "execute_result"
    }
   ],
   "source": [
    "query = \"LangSmith makes it easy to iterate on prompts with your entire team.\"\n",
    "result = vectordb.similarity_search(query)\n",
    "result[0].page_content"
   ]
  },
  {
   "cell_type": "code",
   "execution_count": 10,
   "id": "ad9dfdd5",
   "metadata": {},
   "outputs": [],
   "source": [
    "# llm model\n",
    "from langchain_google_genai import ChatGoogleGenerativeAI\n",
    "\n",
    "llm = ChatGoogleGenerativeAI(model=\"gemini-2.5-pro\")"
   ]
  },
  {
   "cell_type": "code",
   "execution_count": 11,
   "id": "f6f7665a",
   "metadata": {},
   "outputs": [
    {
     "data": {
      "text/plain": [
       "RunnableBinding(bound=RunnableBinding(bound=RunnableAssign(mapper={\n",
       "  context: RunnableLambda(format_docs)\n",
       "}), kwargs={}, config={'run_name': 'format_inputs'}, config_factories=[])\n",
       "| ChatPromptTemplate(input_variables=['context'], input_types={}, partial_variables={}, messages=[HumanMessagePromptTemplate(prompt=PromptTemplate(input_variables=['context'], input_types={}, partial_variables={}, template='\\nAnswer the following questions based only on the provided contect:\\n<context>\\n{context}\\n</context>\\n'), additional_kwargs={})])\n",
       "| ChatGoogleGenerativeAI(model='models/gemini-2.5-pro', google_api_key=SecretStr('**********'), client=<google.ai.generativelanguage_v1beta.services.generative_service.client.GenerativeServiceClient object at 0x000002A920C5D930>, default_metadata=())\n",
       "| StrOutputParser(), kwargs={}, config={'run_name': 'stuff_documents_chain'}, config_factories=[])"
      ]
     },
     "execution_count": 11,
     "metadata": {},
     "output_type": "execute_result"
    }
   ],
   "source": [
    "from langchain.chains.combine_documents import create_stuff_documents_chain\n",
    "from langchain_core.prompts import ChatPromptTemplate\n",
    "\n",
    "prompt = ChatPromptTemplate.from_template(\n",
    "    \"\"\"\n",
    "Answer the following questions based only on the provided contect:\n",
    "<context>\n",
    "{context}\n",
    "</context>\n",
    "\"\"\"\n",
    ")\n",
    "\n",
    "doc_chain = create_stuff_documents_chain(llm, prompt)\n",
    "doc_chain"
   ]
  },
  {
   "cell_type": "code",
   "execution_count": 12,
   "id": "6a44e725",
   "metadata": {},
   "outputs": [
    {
     "data": {
      "text/plain": [
       "'Please provide the questions you would like me to answer. I will base my responses solely on the text provided.'"
      ]
     },
     "execution_count": 12,
     "metadata": {},
     "output_type": "execute_result"
    }
   ],
   "source": [
    "from langchain_core.documents import Document\n",
    "doc_chain.invoke({\n",
    "    \"input\": \"LangSmith makes it easy to iterate on prompts with your entire team.\",\n",
    "    \"context\": [Document(page_content=\"LangSmith makes it easy to iterate on prompts with your entire team\")]\n",
    "})"
   ]
  },
  {
   "cell_type": "code",
   "execution_count": 13,
   "id": "7c39370f",
   "metadata": {},
   "outputs": [
    {
     "data": {
      "text/plain": [
       "<langchain_community.vectorstores.faiss.FAISS at 0x2a920c5c4f0>"
      ]
     },
     "execution_count": 13,
     "metadata": {},
     "output_type": "execute_result"
    }
   ],
   "source": [
    "vectordb"
   ]
  },
  {
   "cell_type": "code",
   "execution_count": 14,
   "id": "a77f67af",
   "metadata": {},
   "outputs": [
    {
     "data": {
      "text/plain": [
       "RunnableBinding(bound=RunnableAssign(mapper={\n",
       "  context: RunnableBinding(bound=RunnableLambda(lambda x: x['input'])\n",
       "           | VectorStoreRetriever(tags=['FAISS', 'GoogleGenerativeAIEmbeddings'], vectorstore=<langchain_community.vectorstores.faiss.FAISS object at 0x000002A920C5C4F0>, search_kwargs={}), kwargs={}, config={'run_name': 'retrieve_documents'}, config_factories=[])\n",
       "})\n",
       "| RunnableAssign(mapper={\n",
       "    answer: RunnableBinding(bound=RunnableBinding(bound=RunnableAssign(mapper={\n",
       "              context: RunnableLambda(format_docs)\n",
       "            }), kwargs={}, config={'run_name': 'format_inputs'}, config_factories=[])\n",
       "            | ChatPromptTemplate(input_variables=['context'], input_types={}, partial_variables={}, messages=[HumanMessagePromptTemplate(prompt=PromptTemplate(input_variables=['context'], input_types={}, partial_variables={}, template='\\nAnswer the following questions based only on the provided contect:\\n<context>\\n{context}\\n</context>\\n'), additional_kwargs={})])\n",
       "            | ChatGoogleGenerativeAI(model='models/gemini-2.5-pro', google_api_key=SecretStr('**********'), client=<google.ai.generativelanguage_v1beta.services.generative_service.client.GenerativeServiceClient object at 0x000002A920C5D930>, default_metadata=())\n",
       "            | StrOutputParser(), kwargs={}, config={'run_name': 'stuff_documents_chain'}, config_factories=[])\n",
       "  }), kwargs={}, config={'run_name': 'retrieval_chain'}, config_factories=[])"
      ]
     },
     "execution_count": 14,
     "metadata": {},
     "output_type": "execute_result"
    }
   ],
   "source": [
    "from langchain.chains import create_retrieval_chain\n",
    "retriever = vectordb.as_retriever()\n",
    "r_chain = create_retrieval_chain(retriever, doc_chain)\n",
    "r_chain"
   ]
  },
  {
   "cell_type": "code",
   "execution_count": 17,
   "id": "35b22c49",
   "metadata": {},
   "outputs": [
    {
     "data": {
      "text/plain": [
       "{'input': 'LangSmith makes it easy to iterate on prompts with your entire team.',\n",
       " 'context': [Document(id='a0827834-6a05-4ffe-a542-1732ea6a7ed2', metadata={'source': 'https://docs.smith.langchain.com/prompt_engineering/quickstarts/quickstart_ui', 'title': 'Prompt Engineering Quick Start (UI) | 🦜️🛠️ LangSmith', 'description': 'This quick start will walk through how to create, test, and iterate on prompts in LangSmith.', 'language': 'en'}, page_content='4. Save a prompt\\u200b\\nOne you have run some tests and made your desired changes to your prompt you can click the “Save” button to save your prompt for future use.\\n\\n5. Iterate on a prompt\\u200b\\nLangSmith makes it easy to iterate on prompts with your entire team. Members of your workspace can select a prompt to iterate on in the playground,\\nand once they are happy with their changes, they can simply save it as a new commit.\\nTo improve your prompts:'),\n",
       "  Document(id='79619de3-bba0-4109-b9a1-3f0f8338818b', metadata={'source': 'https://docs.smith.langchain.com/prompt_engineering/quickstarts/quickstart_ui', 'title': 'Prompt Engineering Quick Start (UI) | 🦜️🛠️ LangSmith', 'description': 'This quick start will walk through how to create, test, and iterate on prompts in LangSmith.', 'language': 'en'}, page_content='This quick start will walk through how to create, test, and iterate on prompts in LangSmith.\\nQuickStartThis tutorial uses the UI for prompt engineering, if you are interested in using the SDK instead, read this guide.\\n1. Setup\\u200b\\nThe only setup needed for this guide is to make sure you have signed up for a LangSmith account.\\n2. Create a prompt\\u200b\\nTo create a prompt in LangSmith, navigate to the Prompts section of the left-hand sidebar and click on the “+ New Prompt” button.'),\n",
       "  Document(id='90babbf1-5bf2-4577-b46a-4d362b0797fd', metadata={'source': 'https://docs.smith.langchain.com/prompt_engineering/quickstarts/quickstart_ui', 'title': 'Prompt Engineering Quick Start (UI) | 🦜️🛠️ LangSmith', 'description': 'This quick start will walk through how to create, test, and iterate on prompts in LangSmith.', 'language': 'en'}, page_content=\"We recommend referencing the documentation provided by your model provider for best practices in prompt creation,\\nsuch as Best practices for prompt engineering with the OpenAI API and Gemini’s Introduction to prompt design.\\n\\n\\nTo help with iterating on your prompts in LangSmith, we've created Prompt Canvas —\\xa0an interactive tool to build and optimize your prompts.\\nLearn about how to use Prompt Canvas.\\n\\n\\n\\nYou can also tag specific commits to mark important moments in your commit history:\"),\n",
       "  Document(id='58de68b6-2cca-4376-bcba-18131a1aadf9', metadata={'source': 'https://docs.smith.langchain.com/prompt_engineering/quickstarts/quickstart_ui', 'title': 'Prompt Engineering Quick Start (UI) | 🦜️🛠️ LangSmith', 'description': 'This quick start will walk through how to create, test, and iterate on prompts in LangSmith.', 'language': 'en'}, page_content='Was this page helpful?You can leave detailed feedback on GitHub.PreviousConceptual GuideNextQuick Start (UI)1. Setup2. Create a prompt3. Test a prompt4. Save a prompt5. Iterate on a prompt6. Next stepsCommunityLangChain ForumTwitterGitHubDocs CodeLangSmith SDKPythonJS/TSMoreHomepageBlogLangChain Python DocsLangChain JS/TS DocsCopyright © 2025 LangChain, Inc.')],\n",
       " 'answer': 'Based only on the provided context, here are the answers to potential questions:\\n\\n**Q: How do you create a new prompt in LangSmith?**\\nA: To create a prompt, you navigate to the \"Prompts\" section of the left-hand sidebar and click on the “+ New Prompt” button.\\n\\n**Q: What is the only setup required for this guide?**\\nA: The only setup needed is to make sure you have signed up for a LangSmith account.\\n\\n**Q: How do you save a prompt?**\\nA: Once you have made your desired changes to a prompt, you can click the “Save” button to save it for future use.\\n\\n**Q: How can team members iterate on a prompt?**\\nA: Members of a workspace can select a prompt to iterate on in the playground. Once they are happy with their changes, they can save it as a new commit.\\n\\n**Q: What tool has LangSmith created to help with iterating on prompts?**\\nA: LangSmith has created Prompt Canvas, which is an interactive tool to build and optimize prompts.\\n\\n**Q: Does this guide cover using the SDK for prompt engineering?**\\nA: No, this tutorial uses the UI. The text mentions there is a separate guide for using the SDK.\\n\\n**Q: What does the context recommend for best practices in prompt creation?**\\nA: It recommends referencing the documentation provided by your model provider, such as the guides for the OpenAI API and Gemini.'}"
      ]
     },
     "execution_count": 17,
     "metadata": {},
     "output_type": "execute_result"
    }
   ],
   "source": [
    "result2 = r_chain.invoke({\"input\": \"LangSmith makes it easy to iterate on prompts with your entire team.\" })\n",
    "result2"
   ]
  },
  {
   "cell_type": "code",
   "execution_count": 18,
   "id": "aca3120b",
   "metadata": {},
   "outputs": [
    {
     "data": {
      "text/plain": [
       "'Based only on the provided context, here are the answers to potential questions:\\n\\n**Q: How do you create a new prompt in LangSmith?**\\nA: To create a prompt, you navigate to the \"Prompts\" section of the left-hand sidebar and click on the “+ New Prompt” button.\\n\\n**Q: What is the only setup required for this guide?**\\nA: The only setup needed is to make sure you have signed up for a LangSmith account.\\n\\n**Q: How do you save a prompt?**\\nA: Once you have made your desired changes to a prompt, you can click the “Save” button to save it for future use.\\n\\n**Q: How can team members iterate on a prompt?**\\nA: Members of a workspace can select a prompt to iterate on in the playground. Once they are happy with their changes, they can save it as a new commit.\\n\\n**Q: What tool has LangSmith created to help with iterating on prompts?**\\nA: LangSmith has created Prompt Canvas, which is an interactive tool to build and optimize prompts.\\n\\n**Q: Does this guide cover using the SDK for prompt engineering?**\\nA: No, this tutorial uses the UI. The text mentions there is a separate guide for using the SDK.\\n\\n**Q: What does the context recommend for best practices in prompt creation?**\\nA: It recommends referencing the documentation provided by your model provider, such as the guides for the OpenAI API and Gemini.'"
      ]
     },
     "execution_count": 18,
     "metadata": {},
     "output_type": "execute_result"
    }
   ],
   "source": [
    "result2['answer']"
   ]
  },
  {
   "cell_type": "code",
   "execution_count": 19,
   "id": "671726fa",
   "metadata": {},
   "outputs": [
    {
     "data": {
      "text/plain": [
       "[Document(id='a0827834-6a05-4ffe-a542-1732ea6a7ed2', metadata={'source': 'https://docs.smith.langchain.com/prompt_engineering/quickstarts/quickstart_ui', 'title': 'Prompt Engineering Quick Start (UI) | 🦜️🛠️ LangSmith', 'description': 'This quick start will walk through how to create, test, and iterate on prompts in LangSmith.', 'language': 'en'}, page_content='4. Save a prompt\\u200b\\nOne you have run some tests and made your desired changes to your prompt you can click the “Save” button to save your prompt for future use.\\n\\n5. Iterate on a prompt\\u200b\\nLangSmith makes it easy to iterate on prompts with your entire team. Members of your workspace can select a prompt to iterate on in the playground,\\nand once they are happy with their changes, they can simply save it as a new commit.\\nTo improve your prompts:'),\n",
       " Document(id='79619de3-bba0-4109-b9a1-3f0f8338818b', metadata={'source': 'https://docs.smith.langchain.com/prompt_engineering/quickstarts/quickstart_ui', 'title': 'Prompt Engineering Quick Start (UI) | 🦜️🛠️ LangSmith', 'description': 'This quick start will walk through how to create, test, and iterate on prompts in LangSmith.', 'language': 'en'}, page_content='This quick start will walk through how to create, test, and iterate on prompts in LangSmith.\\nQuickStartThis tutorial uses the UI for prompt engineering, if you are interested in using the SDK instead, read this guide.\\n1. Setup\\u200b\\nThe only setup needed for this guide is to make sure you have signed up for a LangSmith account.\\n2. Create a prompt\\u200b\\nTo create a prompt in LangSmith, navigate to the Prompts section of the left-hand sidebar and click on the “+ New Prompt” button.'),\n",
       " Document(id='90babbf1-5bf2-4577-b46a-4d362b0797fd', metadata={'source': 'https://docs.smith.langchain.com/prompt_engineering/quickstarts/quickstart_ui', 'title': 'Prompt Engineering Quick Start (UI) | 🦜️🛠️ LangSmith', 'description': 'This quick start will walk through how to create, test, and iterate on prompts in LangSmith.', 'language': 'en'}, page_content=\"We recommend referencing the documentation provided by your model provider for best practices in prompt creation,\\nsuch as Best practices for prompt engineering with the OpenAI API and Gemini’s Introduction to prompt design.\\n\\n\\nTo help with iterating on your prompts in LangSmith, we've created Prompt Canvas —\\xa0an interactive tool to build and optimize your prompts.\\nLearn about how to use Prompt Canvas.\\n\\n\\n\\nYou can also tag specific commits to mark important moments in your commit history:\"),\n",
       " Document(id='58de68b6-2cca-4376-bcba-18131a1aadf9', metadata={'source': 'https://docs.smith.langchain.com/prompt_engineering/quickstarts/quickstart_ui', 'title': 'Prompt Engineering Quick Start (UI) | 🦜️🛠️ LangSmith', 'description': 'This quick start will walk through how to create, test, and iterate on prompts in LangSmith.', 'language': 'en'}, page_content='Was this page helpful?You can leave detailed feedback on GitHub.PreviousConceptual GuideNextQuick Start (UI)1. Setup2. Create a prompt3. Test a prompt4. Save a prompt5. Iterate on a prompt6. Next stepsCommunityLangChain ForumTwitterGitHubDocs CodeLangSmith SDKPythonJS/TSMoreHomepageBlogLangChain Python DocsLangChain JS/TS DocsCopyright © 2025 LangChain, Inc.')]"
      ]
     },
     "execution_count": 19,
     "metadata": {},
     "output_type": "execute_result"
    }
   ],
   "source": [
    "result2['context']"
   ]
  },
  {
   "cell_type": "code",
   "execution_count": 20,
   "id": "64c96d70",
   "metadata": {},
   "outputs": [
    {
     "data": {
      "text/plain": [
       "'LangSmith makes it easy to iterate on prompts with your entire team.'"
      ]
     },
     "execution_count": 20,
     "metadata": {},
     "output_type": "execute_result"
    }
   ],
   "source": [
    "result2['input']"
   ]
  },
  {
   "cell_type": "code",
   "execution_count": null,
   "id": "9d22c68d",
   "metadata": {},
   "outputs": [],
   "source": []
  }
 ],
 "metadata": {
  "kernelspec": {
   "display_name": "langchain-env",
   "language": "python",
   "name": "python3"
  },
  "language_info": {
   "codemirror_mode": {
    "name": "ipython",
    "version": 3
   },
   "file_extension": ".py",
   "mimetype": "text/x-python",
   "name": "python",
   "nbconvert_exporter": "python",
   "pygments_lexer": "ipython3",
   "version": "3.10.18"
  }
 },
 "nbformat": 4,
 "nbformat_minor": 5
}
