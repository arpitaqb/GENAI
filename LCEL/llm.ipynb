{
 "cells": [
  {
   "cell_type": "markdown",
   "id": "e5656b03",
   "metadata": {},
   "source": [
    "### simple llm application with LCEL(LangChain Expression Language)\n"
   ]
  },
  {
   "cell_type": "code",
   "execution_count": 2,
   "id": "08c4f87e",
   "metadata": {},
   "outputs": [
    {
     "data": {
      "text/plain": [
       "True"
      ]
     },
     "execution_count": 2,
     "metadata": {},
     "output_type": "execute_result"
    }
   ],
   "source": [
    "import os\n",
    "from dotenv import load_dotenv\n",
    "load_dotenv()"
   ]
  },
  {
   "cell_type": "code",
   "execution_count": 3,
   "id": "fbdae6a6",
   "metadata": {},
   "outputs": [],
   "source": [
    "from langchain_google_genai import GoogleGenerativeAI\n",
    "os.environ['GEMINI_API_KEY']= os.getenv('GEMINI_API_KEY')\n",
    "groq_api_key = os.getenv('GROQ_API_KEY')\n"
   ]
  },
  {
   "cell_type": "code",
   "execution_count": 4,
   "id": "4209c839",
   "metadata": {},
   "outputs": [
    {
     "data": {
      "text/plain": [
       "ChatGroq(client=<groq.resources.chat.completions.Completions object at 0x000001BDF9626560>, async_client=<groq.resources.chat.completions.AsyncCompletions object at 0x000001BDF9624070>, model_name='Gemma2-9b-It', model_kwargs={}, groq_api_key=SecretStr('**********'))"
      ]
     },
     "execution_count": 4,
     "metadata": {},
     "output_type": "execute_result"
    }
   ],
   "source": [
    "from langchain_google_genai import ChatGoogleGenerativeAI\n",
    "from langchain_groq import ChatGroq\n",
    "\n",
    "model = ChatGroq(model=\"Gemma2-9b-It\", groq_api_key= groq_api_key)\n",
    "model"
   ]
  },
  {
   "cell_type": "code",
   "execution_count": 5,
   "id": "c6e6e156",
   "metadata": {},
   "outputs": [
    {
     "data": {
      "text/plain": [
       "AIMessage(content='The most common way to say \"How are you?\" in Gujarati is:\\n\\n**તમે કેમ છો?** (Tame kem chho?) \\n\\nThis is a polite and respectful way to ask someone how they are doing. \\n\\n\\nLet me know if you\\'d like to know other ways to say it! \\n', additional_kwargs={}, response_metadata={'token_usage': {'completion_tokens': 71, 'prompt_tokens': 19, 'total_tokens': 90, 'completion_time': 0.129090909, 'prompt_time': 0.00189204, 'queue_time': 0.26461838000000004, 'total_time': 0.130982949}, 'model_name': 'Gemma2-9b-It', 'system_fingerprint': 'fp_10c08bf97d', 'finish_reason': 'stop', 'logprobs': None}, id='run--2ea8d5a1-74f0-42a0-82ed-650d97e6ff50-0', usage_metadata={'input_tokens': 19, 'output_tokens': 71, 'total_tokens': 90})"
      ]
     },
     "execution_count": 5,
     "metadata": {},
     "output_type": "execute_result"
    }
   ],
   "source": [
    "from langchain_core.messages import HumanMessage, SystemMessage\n",
    "\n",
    "message = [\n",
    "    SystemMessage(content=\"Translate english into gujrati\"),\n",
    "    HumanMessage(content=\"how are you?\")\n",
    "]\n",
    "\n",
    "result = model.invoke(message)\n",
    "result"
   ]
  },
  {
   "cell_type": "code",
   "execution_count": 6,
   "id": "4bc09cf9",
   "metadata": {},
   "outputs": [
    {
     "data": {
      "text/plain": [
       "'The most common way to say \"How are you?\" in Gujarati is:\\n\\n**તમે કેમ છો?** (Tame kem chho?) \\n\\nThis is a polite and respectful way to ask someone how they are doing. \\n\\n\\nLet me know if you\\'d like to know other ways to say it! \\n'"
      ]
     },
     "execution_count": 6,
     "metadata": {},
     "output_type": "execute_result"
    }
   ],
   "source": [
    "from langchain_core.output_parsers import StrOutputParser\n",
    "parser = StrOutputParser()\n",
    "parser.invoke(result)"
   ]
  },
  {
   "cell_type": "code",
   "execution_count": 7,
   "id": "6008891f",
   "metadata": {},
   "outputs": [
    {
     "data": {
      "text/plain": [
       "'\"How are you?\" in Gujarati is:\\n\\n**તમે કેમ છો?** (Tame kem cho?) \\n\\nThis is the most common and polite way to ask someone how they are doing. \\n\\n\\nLet me know if you\\'d like to learn more Gujarati phrases! 😊\\n'"
      ]
     },
     "execution_count": 7,
     "metadata": {},
     "output_type": "execute_result"
    }
   ],
   "source": [
    "# LCEL- chain the components it will directly give prse output \n",
    "chain = model|parser\n",
    "chain.invoke(message)"
   ]
  },
  {
   "cell_type": "code",
   "execution_count": 8,
   "id": "448cf64a",
   "metadata": {},
   "outputs": [],
   "source": [
    "from langchain_core.prompts import ChatPromptTemplate\n",
    "\n",
    "template = \"translate into {lan}:\"\n",
    "\n",
    "prompt = ChatPromptTemplate.from_messages(\n",
    "    [(\"system\", template), (\"user\", \"{text}\")]\n",
    ") "
   ]
  },
  {
   "cell_type": "code",
   "execution_count": 9,
   "id": "73e1e84c",
   "metadata": {},
   "outputs": [
    {
     "data": {
      "text/plain": [
       "[SystemMessage(content='translate into gujrati:', additional_kwargs={}, response_metadata={}),\n",
       " HumanMessage(content='hello', additional_kwargs={}, response_metadata={})]"
      ]
     },
     "execution_count": 9,
     "metadata": {},
     "output_type": "execute_result"
    }
   ],
   "source": [
    "result = prompt.invoke({\"lan\":\"gujrati\", \"text\":\"hello\"})\n",
    "result.to_messages()"
   ]
  },
  {
   "cell_type": "code",
   "execution_count": 10,
   "id": "86d71394",
   "metadata": {},
   "outputs": [
    {
     "data": {
      "text/plain": [
       "'કેમ છો (Kem chho) \\n\\nThis is the most common way to say \"hello\" in Gujarati. It literally translates to \"How are you?\" but is used as a general greeting.\\n\\n'"
      ]
     },
     "execution_count": 10,
     "metadata": {},
     "output_type": "execute_result"
    }
   ],
   "source": [
    "chain = prompt|model|parser\n",
    "chain.invoke({\"lan\":\"gujrati\", \"text\":\"hello\"})"
   ]
  },
  {
   "cell_type": "code",
   "execution_count": null,
   "id": "a6bb444d",
   "metadata": {},
   "outputs": [],
   "source": []
  }
 ],
 "metadata": {
  "kernelspec": {
   "display_name": "langchain-env",
   "language": "python",
   "name": "python3"
  },
  "language_info": {
   "codemirror_mode": {
    "name": "ipython",
    "version": 3
   },
   "file_extension": ".py",
   "mimetype": "text/x-python",
   "name": "python",
   "nbconvert_exporter": "python",
   "pygments_lexer": "ipython3",
   "version": "3.10.18"
  }
 },
 "nbformat": 4,
 "nbformat_minor": 5
}
