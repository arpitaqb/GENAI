{
 "cells": [
  {
   "cell_type": "markdown",
   "id": "e5656b03",
   "metadata": {},
   "source": [
    "### simple llm application with LCEL(LangChain Expression Language)\n"
   ]
  },
  {
   "cell_type": "code",
   "execution_count": null,
   "id": "08c4f87e",
   "metadata": {},
   "outputs": [
    {
     "data": {
      "text/plain": [
       "False"
      ]
     },
     "execution_count": 20,
     "metadata": {},
     "output_type": "execute_result"
    }
   ],
   "source": [
    "# import os\n",
    "# from dotenv import load_dotenv\n",
    "# load_dotenv()"
   ]
  },
  {
   "cell_type": "code",
   "execution_count": null,
   "id": "fbdae6a6",
   "metadata": {},
   "outputs": [],
   "source": [
    "# from langchain_google_genai import GoogleGenerativeAI\n",
    "# os.environ['GEMINI_API_KEY']= os.getenv('GEMINI_API_KEY')\n",
    "# groq_api_key = os.getenv('GROQ_API_KEY')\n"
   ]
  },
  {
   "cell_type": "code",
   "execution_count": null,
   "id": "4209c839",
   "metadata": {},
   "outputs": [],
   "source": [
    "# from langchain_google_genai import ChatGoogleGenerativeAI\n",
    "# from langchain_groq import ChatGroq\n",
    "\n",
    "# model = ChatGroq(model=\"Gemma2-9b-It\", groq_api_key= groq_api_key)\n"
   ]
  },
  {
   "cell_type": "code",
   "execution_count": 23,
   "id": "c6e6e156",
   "metadata": {},
   "outputs": [
    {
     "data": {
      "text/plain": [
       "AIMessage(content='\"How are you?\" in Gujarati can be translated as:\\n\\n* **તમે કેમ છો?** (Tame kem chho?) - This is the most common and general way to ask \"how are you?\". It is suitable for most situations.\\n\\n* **તમારી કા滿 રહેશે?** (Tamari kamn rahe she?) - This is a more formal way of asking \"how are you?\" and is usually used with elders or people you respect.\\n\\n\\nLet me know if you have any other phrases you\\'d like translated!\\n', additional_kwargs={}, response_metadata={'token_usage': {'completion_tokens': 121, 'prompt_tokens': 19, 'total_tokens': 140, 'completion_time': 0.22, 'prompt_time': 0.003554853, 'queue_time': 0.34805388499999995, 'total_time': 0.223554853}, 'model_name': 'Gemma2-9b-It', 'system_fingerprint': 'fp_10c08bf97d', 'finish_reason': 'stop', 'logprobs': None}, id='run--fc2e46e6-ba1b-47ba-a27e-98798c326c8a-0', usage_metadata={'input_tokens': 19, 'output_tokens': 121, 'total_tokens': 140})"
      ]
     },
     "execution_count": 23,
     "metadata": {},
     "output_type": "execute_result"
    }
   ],
   "source": [
    "from langchain_core.messages import HumanMessage, SystemMessage\n",
    "\n",
    "message = [\n",
    "    SystemMessage(content=\"Translate english into gujrati\"),\n",
    "    HumanMessage(content=\"how are you?\")\n",
    "]\n",
    "\n",
    "result = model.invoke(message)\n",
    "result"
   ]
  },
  {
   "cell_type": "code",
   "execution_count": 24,
   "id": "4bc09cf9",
   "metadata": {},
   "outputs": [
    {
     "data": {
      "text/plain": [
       "'\"How are you?\" in Gujarati can be translated as:\\n\\n* **તમે કેમ છો?** (Tame kem chho?) - This is the most common and general way to ask \"how are you?\". It is suitable for most situations.\\n\\n* **તમારી કા滿 રહેશે?** (Tamari kamn rahe she?) - This is a more formal way of asking \"how are you?\" and is usually used with elders or people you respect.\\n\\n\\nLet me know if you have any other phrases you\\'d like translated!\\n'"
      ]
     },
     "execution_count": 24,
     "metadata": {},
     "output_type": "execute_result"
    }
   ],
   "source": [
    "from langchain_core.output_parsers import StrOutputParser\n",
    "parser = StrOutputParser()\n",
    "parser.invoke(result)"
   ]
  },
  {
   "cell_type": "code",
   "execution_count": 25,
   "id": "6008891f",
   "metadata": {},
   "outputs": [
    {
     "data": {
      "text/plain": [
       "'The most common way to say \"How are you?\" in Gujarati is:\\n\\n**તમે કેમ છો? (Tame kem chho?)** \\n\\nThis is a general way to ask someone how they are doing. \\n\\n\\nLet me know if you\\'d like to know other ways to say it, depending on the context! \\n'"
      ]
     },
     "execution_count": 25,
     "metadata": {},
     "output_type": "execute_result"
    }
   ],
   "source": [
    "# LCEL- chain the components it will directly give prse output \n",
    "chain = model|parser\n",
    "chain.invoke(message)"
   ]
  },
  {
   "cell_type": "code",
   "execution_count": 26,
   "id": "448cf64a",
   "metadata": {},
   "outputs": [],
   "source": [
    "from langchain_core.prompts import ChatPromptTemplate\n",
    "\n",
    "template = \"translate into {lan}:\"\n",
    "\n",
    "prompt = ChatPromptTemplate.from_messages(\n",
    "    [(\"system\", template), (\"user\", \"{text}\")]\n",
    ") "
   ]
  },
  {
   "cell_type": "code",
   "execution_count": 27,
   "id": "73e1e84c",
   "metadata": {},
   "outputs": [
    {
     "data": {
      "text/plain": [
       "[SystemMessage(content='translate into gujrati:', additional_kwargs={}, response_metadata={}),\n",
       " HumanMessage(content='hello', additional_kwargs={}, response_metadata={})]"
      ]
     },
     "execution_count": 27,
     "metadata": {},
     "output_type": "execute_result"
    }
   ],
   "source": [
    "result = prompt.invoke({\"lan\":\"gujrati\", \"text\":\"hello\"})\n",
    "result.to_messages()"
   ]
  },
  {
   "cell_type": "code",
   "execution_count": 28,
   "id": "86d71394",
   "metadata": {},
   "outputs": [
    {
     "data": {
      "text/plain": [
       "'નમસ્તે (Namaste) \\n'"
      ]
     },
     "execution_count": 28,
     "metadata": {},
     "output_type": "execute_result"
    }
   ],
   "source": [
    "chain = prompt|model|parser\n",
    "chain.invoke({\"lan\":\"gujrati\", \"text\":\"hello\"})"
   ]
  },
  {
   "cell_type": "code",
   "execution_count": null,
   "id": "a6bb444d",
   "metadata": {},
   "outputs": [],
   "source": []
  }
 ],
 "metadata": {
  "kernelspec": {
   "display_name": "langchain-env",
   "language": "python",
   "name": "python3"
  },
  "language_info": {
   "codemirror_mode": {
    "name": "ipython",
    "version": 3
   },
   "file_extension": ".py",
   "mimetype": "text/x-python",
   "name": "python",
   "nbconvert_exporter": "python",
   "pygments_lexer": "ipython3",
   "version": "3.10.18"
  }
 },
 "nbformat": 4,
 "nbformat_minor": 5
}
