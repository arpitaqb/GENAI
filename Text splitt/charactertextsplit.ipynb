{
 "cells": [
  {
   "cell_type": "markdown",
   "id": "6711f5fe",
   "metadata": {},
   "source": [
    "### Split by character\n",
    "- split based on given character sequencee, by default \"\\n\\n\"\n",
    "- chunk size measured by number of character"
   ]
  },
  {
   "cell_type": "code",
   "execution_count": 24,
   "id": "e1dbcc06",
   "metadata": {},
   "outputs": [],
   "source": [
    "from langchain_community.document_loaders import TextLoader"
   ]
  },
  {
   "cell_type": "code",
   "execution_count": 25,
   "id": "681204e3",
   "metadata": {},
   "outputs": [
    {
     "data": {
      "text/plain": [
       "[Document(metadata={'source': 'sample.txt'}, page_content=' Scene text information extraction plays an important role in many computer vision applications.\\n Most features in existing text extraction algorithms are only applicable to one text extraction stage (text\\n detection or recognition), which signi cantly weakens the consistency in an end-to-end system, especially\\n for the complex Chinese texts. \\n To tackle this challenging problem, we propose a novel text structure feature\\n extractor based on a text structure component detector (TSCD) layer and residual network for Chinese texts.\\n Inspired by the three-layer Chinese text cognition model of a human, we combine the TSCD layer and\\n the residual network to extract features suitable for both text extraction stages. The specialized modeling\\n for Chinese characters in the TSCD layer simulates the key structure component cognition layer in the\\n psychological model. And the residual mechanism in the residual network simulates the key bidirectional\\n connection among the layers in the psychological model. Through the organic combination of the TSCD\\n layer and the residual network, the extracted features are applicable to both text detection and recognition,\\n as humans do. \\n In evaluation, both text detection and recognition models based on our proposed text structure\\n feature extractor achieve great improvements over baseline CNN models. And an end-to-end Chinese text\\n information extraction system is experimentally designed and evaluated, showing the advantage of the\\n proposed feature extractor as a uni ed feature extractor.\\n\\n It is a distressing and oppressive duty, gentlemen of the Congress, which I have performed in thus addressing you. \\n There are, it may be, many months of fiery trial and sacrifice ahead of us. It is a fearful thing to lead this great peaceful people into war, into the most terrible and disastrous of all wars, civilization itself seeming to be in the balance. \\n But the right is more precious than peace, and we shall fight for the things which we have always carried nearest our hearts—for democracy, for the right of those who submit to authority to have a voice in their own governments, for the rights and liberties of small nations, for a universal dominion of right by such a concert of free peoples as shall bring peace and safety to all nations and make the world itself at last free.\\n\\nTo such a task we can dedicate our lives and our fortunes, everything that we are and everything that we have, with the pride of those who know that the day has come when America is privileged to spend her blood and her might for the principles.\\n that gave her birth and happiness and the peace which she has treasured. \\nGod helping her, she can do no other.\\n')]"
      ]
     },
     "execution_count": 25,
     "metadata": {},
     "output_type": "execute_result"
    }
   ],
   "source": [
    "loader = TextLoader('sample.txt')\n",
    "text = loader.load()\n",
    "text"
   ]
  },
  {
   "cell_type": "code",
   "execution_count": 26,
   "id": "a79958a0",
   "metadata": {},
   "outputs": [],
   "source": [
    "from langchain_text_splitters import CharacterTextSplitter"
   ]
  },
  {
   "cell_type": "code",
   "execution_count": 27,
   "id": "b46be65c",
   "metadata": {},
   "outputs": [
    {
     "name": "stderr",
     "output_type": "stream",
     "text": [
      "Created a chunk of size 108, which is longer than the specified 100\n",
      "Created a chunk of size 106, which is longer than the specified 100\n",
      "Created a chunk of size 108, which is longer than the specified 100\n",
      "Created a chunk of size 108, which is longer than the specified 100\n",
      "Created a chunk of size 102, which is longer than the specified 100\n",
      "Created a chunk of size 104, which is longer than the specified 100\n",
      "Created a chunk of size 110, which is longer than the specified 100\n",
      "Created a chunk of size 102, which is longer than the specified 100\n",
      "Created a chunk of size 101, which is longer than the specified 100\n",
      "Created a chunk of size 116, which is longer than the specified 100\n",
      "Created a chunk of size 245, which is longer than the specified 100\n",
      "Created a chunk of size 431, which is longer than the specified 100\n",
      "Created a chunk of size 245, which is longer than the specified 100\n"
     ]
    },
    {
     "data": {
      "text/plain": [
       "[Document(metadata={'source': 'sample.txt'}, page_content='Scene text information extraction plays an important role in many computer vision applications.'),\n",
       " Document(metadata={'source': 'sample.txt'}, page_content='Most features in existing text extraction algorithms are only applicable to one text extraction stage (text'),\n",
       " Document(metadata={'source': 'sample.txt'}, page_content='detection or recognition), which signi cantly weakens the consistency in an end-to-end system, especially'),\n",
       " Document(metadata={'source': 'sample.txt'}, page_content='for the complex Chinese texts.'),\n",
       " Document(metadata={'source': 'sample.txt'}, page_content='To tackle this challenging problem, we propose a novel text structure feature'),\n",
       " Document(metadata={'source': 'sample.txt'}, page_content='extractor based on a text structure component detector (TSCD) layer and residual network for Chinese texts.'),\n",
       " Document(metadata={'source': 'sample.txt'}, page_content='Inspired by the three-layer Chinese text cognition model of a human, we combine the TSCD layer and'),\n",
       " Document(metadata={'source': 'sample.txt'}, page_content='the residual network to extract features suitable for both text extraction stages. The specialized modeling'),\n",
       " Document(metadata={'source': 'sample.txt'}, page_content='for Chinese characters in the TSCD layer simulates the key structure component cognition layer in the'),\n",
       " Document(metadata={'source': 'sample.txt'}, page_content='psychological model. And the residual mechanism in the residual network simulates the key bidirectional'),\n",
       " Document(metadata={'source': 'sample.txt'}, page_content='connection among the layers in the psychological model. Through the organic combination of the TSCD'),\n",
       " Document(metadata={'source': 'sample.txt'}, page_content='layer and the residual network, the extracted features are applicable to both text detection and recognition,'),\n",
       " Document(metadata={'source': 'sample.txt'}, page_content='as humans do.'),\n",
       " Document(metadata={'source': 'sample.txt'}, page_content='In evaluation, both text detection and recognition models based on our proposed text structure'),\n",
       " Document(metadata={'source': 'sample.txt'}, page_content='feature extractor achieve great improvements over baseline CNN models. And an end-to-end Chinese text'),\n",
       " Document(metadata={'source': 'sample.txt'}, page_content='information extraction system is experimentally designed and evaluated, showing the advantage of the'),\n",
       " Document(metadata={'source': 'sample.txt'}, page_content='proposed feature extractor as a uni ed feature extractor.'),\n",
       " Document(metadata={'source': 'sample.txt'}, page_content='It is a distressing and oppressive duty, gentlemen of the Congress, which I have performed in thus addressing you.'),\n",
       " Document(metadata={'source': 'sample.txt'}, page_content='There are, it may be, many months of fiery trial and sacrifice ahead of us. It is a fearful thing to lead this great peaceful people into war, into the most terrible and disastrous of all wars, civilization itself seeming to be in the balance.'),\n",
       " Document(metadata={'source': 'sample.txt'}, page_content='But the right is more precious than peace, and we shall fight for the things which we have always carried nearest our hearts—for democracy, for the right of those who submit to authority to have a voice in their own governments, for the rights and liberties of small nations, for a universal dominion of right by such a concert of free peoples as shall bring peace and safety to all nations and make the world itself at last free.'),\n",
       " Document(metadata={'source': 'sample.txt'}, page_content='To such a task we can dedicate our lives and our fortunes, everything that we are and everything that we have, with the pride of those who know that the day has come when America is privileged to spend her blood and her might for the principles.'),\n",
       " Document(metadata={'source': 'sample.txt'}, page_content='that gave her birth and happiness and the peace which she has treasured.'),\n",
       " Document(metadata={'source': 'sample.txt'}, page_content='God helping her, she can do no other.')]"
      ]
     },
     "execution_count": 27,
     "metadata": {},
     "output_type": "execute_result"
    }
   ],
   "source": [
    "text_split = CharacterTextSplitter(separator=\"\\n\", chunk_size= 100, chunk_overlap=20)\n",
    "splited_txt = text_split.split_documents(text)\n",
    "splited_txt"
   ]
  },
  {
   "cell_type": "code",
   "execution_count": 28,
   "id": "27abb17c",
   "metadata": {},
   "outputs": [
    {
     "name": "stderr",
     "output_type": "stream",
     "text": [
      "Created a chunk of size 1538, which is longer than the specified 100\n",
      "Created a chunk of size 794, which is longer than the specified 100\n"
     ]
    },
    {
     "name": "stdout",
     "output_type": "stream",
     "text": [
      "page_content='Scene text information extraction plays an important role in many computer vision applications.\n",
      " Most features in existing text extraction algorithms are only applicable to one text extraction stage (text\n",
      " detection or recognition), which signi cantly weakens the consistency in an end-to-end system, especially\n",
      " for the complex Chinese texts. \n",
      " To tackle this challenging problem, we propose a novel text structure feature\n",
      " extractor based on a text structure component detector (TSCD) layer and residual network for Chinese texts.\n",
      " Inspired by the three-layer Chinese text cognition model of a human, we combine the TSCD layer and\n",
      " the residual network to extract features suitable for both text extraction stages. The specialized modeling\n",
      " for Chinese characters in the TSCD layer simulates the key structure component cognition layer in the\n",
      " psychological model. And the residual mechanism in the residual network simulates the key bidirectional\n",
      " connection among the layers in the psychological model. Through the organic combination of the TSCD\n",
      " layer and the residual network, the extracted features are applicable to both text detection and recognition,\n",
      " as humans do. \n",
      " In evaluation, both text detection and recognition models based on our proposed text structure\n",
      " feature extractor achieve great improvements over baseline CNN models. And an end-to-end Chinese text\n",
      " information extraction system is experimentally designed and evaluated, showing the advantage of the\n",
      " proposed feature extractor as a uni ed feature extractor.'\n",
      "\n",
      "page_content='It is a distressing and oppressive duty, gentlemen of the Congress, which I have performed in thus addressing you. \n",
      " There are, it may be, many months of fiery trial and sacrifice ahead of us. It is a fearful thing to lead this great peaceful people into war, into the most terrible and disastrous of all wars, civilization itself seeming to be in the balance. \n",
      " But the right is more precious than peace, and we shall fight for the things which we have always carried nearest our hearts—for democracy, for the right of those who submit to authority to have a voice in their own governments, for the rights and liberties of small nations, for a universal dominion of right by such a concert of free peoples as shall bring peace and safety to all nations and make the world itself at last free.'\n"
     ]
    }
   ],
   "source": [
    "txt= \"\"\n",
    "with open(\"sample.txt\") as f:\n",
    "    txt = f.read()\n",
    "\n",
    "text_split = CharacterTextSplitter(chunk_size=100, chunk_overlap=30)\n",
    "text = text_split.create_documents([txt])\n",
    "print(text[0])\n",
    "print()\n",
    "print(text[1])"
   ]
  },
  {
   "cell_type": "code",
   "execution_count": null,
   "id": "463c9e77",
   "metadata": {},
   "outputs": [],
   "source": []
  }
 ],
 "metadata": {
  "kernelspec": {
   "display_name": "langchain-env",
   "language": "python",
   "name": "python3"
  },
  "language_info": {
   "codemirror_mode": {
    "name": "ipython",
    "version": 3
   },
   "file_extension": ".py",
   "mimetype": "text/x-python",
   "name": "python",
   "nbconvert_exporter": "python",
   "pygments_lexer": "ipython3",
   "version": "3.10.18"
  }
 },
 "nbformat": 4,
 "nbformat_minor": 5
}
