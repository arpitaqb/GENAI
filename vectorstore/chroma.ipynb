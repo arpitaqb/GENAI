{
 "cells": [
  {
   "cell_type": "markdown",
   "id": "5d30c10e",
   "metadata": {},
   "source": [
    "### Chroma "
   ]
  },
  {
   "cell_type": "code",
   "execution_count": 2,
   "id": "b137d52a",
   "metadata": {},
   "outputs": [],
   "source": [
    "from langchain_chroma import Chroma\n",
    "from langchain_community.document_loaders import TextLoader\n",
    "from langchain_text_splitters import RecursiveCharacterTextSplitter\n",
    "from langchain_community.embeddings import OllamaEmbeddings"
   ]
  },
  {
   "cell_type": "code",
   "execution_count": 3,
   "id": "9ad34522",
   "metadata": {},
   "outputs": [
    {
     "data": {
      "text/plain": [
       "[Document(metadata={'source': 'speech.txt'}, page_content='Scene text information extraction plays an important role in many computer vision applications. Most features in existing text extraction algorithms are only applicable to one text extraction stage (text detection or recognition), which significantly weakens the consistency in an end-to-end system, especially for complex Chinese texts.\\n\\nTo tackle this challenging problem, we propose a novel text structure feature extractor based on a Text Structure Component Detector (TSCD) layer and residual network for Chinese texts.\\n\\nInspired by the three-layer Chinese text cognition model of the human brain, we combine the TSCD layer and the residual network to extract features suitable for both text extraction stages:\\n\\nThe TSCD layer specializes in modeling Chinese character structures and simulates the key structure component cognition layer in the psychological model.\\n\\nThe residual mechanism in the residual network simulates the bidirectional connections among cognitive layers, maintaining the consistency of information flow.\\n\\nThrough the organic combination of the TSCD layer and residual network, the extracted features become applicable to both text detection and recognition, mirroring the human process of understanding written Chinese.\\n\\n')]"
      ]
     },
     "execution_count": 3,
     "metadata": {},
     "output_type": "execute_result"
    }
   ],
   "source": [
    "loader = TextLoader('speech.txt')\n",
    "doc = loader.load()\n",
    "doc"
   ]
  },
  {
   "cell_type": "code",
   "execution_count": 4,
   "id": "ad36c096",
   "metadata": {},
   "outputs": [
    {
     "data": {
      "text/plain": [
       "[Document(metadata={'source': 'speech.txt'}, page_content='Scene text information extraction plays an important role in many computer vision applications. Most features in existing text extraction algorithms are only applicable to one text extraction stage (text detection or recognition), which significantly weakens the consistency in an end-to-end system, especially for complex Chinese texts.'),\n",
       " Document(metadata={'source': 'speech.txt'}, page_content='To tackle this challenging problem, we propose a novel text structure feature extractor based on a Text Structure Component Detector (TSCD) layer and residual network for Chinese texts.\\n\\nInspired by the three-layer Chinese text cognition model of the human brain, we combine the TSCD layer and the residual network to extract features suitable for both text extraction stages:'),\n",
       " Document(metadata={'source': 'speech.txt'}, page_content='The TSCD layer specializes in modeling Chinese character structures and simulates the key structure component cognition layer in the psychological model.\\n\\nThe residual mechanism in the residual network simulates the bidirectional connections among cognitive layers, maintaining the consistency of information flow.'),\n",
       " Document(metadata={'source': 'speech.txt'}, page_content='Through the organic combination of the TSCD layer and residual network, the extracted features become applicable to both text detection and recognition, mirroring the human process of understanding written Chinese.')]"
      ]
     },
     "execution_count": 4,
     "metadata": {},
     "output_type": "execute_result"
    }
   ],
   "source": [
    "split = RecursiveCharacterTextSplitter(chunk_size=500, chunk_overlap=50)\n",
    "text_split = split.split_documents(doc)\n",
    "text_split"
   ]
  },
  {
   "cell_type": "code",
   "execution_count": 5,
   "id": "9592b2bc",
   "metadata": {},
   "outputs": [
    {
     "name": "stderr",
     "output_type": "stream",
     "text": [
      "C:\\Users\\User1\\AppData\\Local\\Temp\\ipykernel_4424\\3621921187.py:1: LangChainDeprecationWarning: The class `OllamaEmbeddings` was deprecated in LangChain 0.3.1 and will be removed in 1.0.0. An updated version of the class exists in the :class:`~langchain-ollama package and should be used instead. To use it run `pip install -U :class:`~langchain-ollama` and import as `from :class:`~langchain_ollama import OllamaEmbeddings``.\n",
      "  embedding = OllamaEmbeddings(model=\"mxbai-embed-large\")\n"
     ]
    }
   ],
   "source": [
    "embedding = OllamaEmbeddings(model=\"mxbai-embed-large\")"
   ]
  },
  {
   "cell_type": "code",
   "execution_count": 9,
   "id": "54f3d4c5",
   "metadata": {},
   "outputs": [
    {
     "data": {
      "text/plain": [
       "<langchain_chroma.vectorstores.Chroma at 0x1ed8e3ec400>"
      ]
     },
     "execution_count": 9,
     "metadata": {},
     "output_type": "execute_result"
    }
   ],
   "source": [
    "vectordb=Chroma.from_documents(documents=text_split,embedding=embedding)\n",
    "vectordb"
   ]
  },
  {
   "cell_type": "code",
   "execution_count": 11,
   "id": "2222b9c1",
   "metadata": {},
   "outputs": [
    {
     "data": {
      "text/plain": [
       "Document(id='ee542bf9-9201-4385-bf9a-13f246ddca94', metadata={'source': 'speech.txt'}, page_content='Scene text information extraction plays an important role in many computer vision applications. Most features in existing text extraction algorithms are only applicable to one text extraction stage (text detection or recognition), which significantly weakens the consistency in an end-to-end system, especially for complex Chinese texts.')"
      ]
     },
     "execution_count": 11,
     "metadata": {},
     "output_type": "execute_result"
    }
   ],
   "source": [
    "query = \"Scene text information extraction plays an important role in many computer vision applications\"\n",
    "doc = vectordb.similarity_search(query)\n",
    "doc[0]"
   ]
  },
  {
   "cell_type": "code",
   "execution_count": 12,
   "id": "52af61b1",
   "metadata": {},
   "outputs": [],
   "source": [
    "vectordb = Chroma.from_documents(documents=text_split, embedding=embedding, persist_directory=\"./chroma_db\")"
   ]
  },
  {
   "cell_type": "code",
   "execution_count": 13,
   "id": "6f2da60d",
   "metadata": {},
   "outputs": [
    {
     "data": {
      "text/plain": [
       "'Scene text information extraction plays an important role in many computer vision applications. Most features in existing text extraction algorithms are only applicable to one text extraction stage (text detection or recognition), which significantly weakens the consistency in an end-to-end system, especially for complex Chinese texts.'"
      ]
     },
     "execution_count": 13,
     "metadata": {},
     "output_type": "execute_result"
    }
   ],
   "source": [
    "db2 = Chroma(persist_directory=\"./chroma_db\", embedding_function=embedding)\n",
    "docs = db2.similarity_search(query)\n",
    "doc[0].page_content"
   ]
  },
  {
   "cell_type": "code",
   "execution_count": 14,
   "id": "36c839c3",
   "metadata": {},
   "outputs": [
    {
     "data": {
      "text/plain": [
       "[(Document(id='f5c5e88c-0224-49b5-af38-7276d0b03f6a', metadata={'source': 'speech.txt'}, page_content='Scene text information extraction plays an important role in many computer vision applications. Most features in existing text extraction algorithms are only applicable to one text extraction stage (text detection or recognition), which significantly weakens the consistency in an end-to-end system, especially for complex Chinese texts.'),\n",
       "  100.67315673828125),\n",
       " (Document(id='6230fa74-07eb-45bc-8083-7336d2112ad8', metadata={'source': 'speech.txt'}, page_content='Through the organic combination of the TSCD layer and residual network, the extracted features become applicable to both text detection and recognition, mirroring the human process of understanding written Chinese.'),\n",
       "  167.1912841796875),\n",
       " (Document(id='77776e60-eb1d-423a-bb2a-6551815a6ab5', metadata={'source': 'speech.txt'}, page_content='To tackle this challenging problem, we propose a novel text structure feature extractor based on a Text Structure Component Detector (TSCD) layer and residual network for Chinese texts.\\n\\nInspired by the three-layer Chinese text cognition model of the human brain, we combine the TSCD layer and the residual network to extract features suitable for both text extraction stages:'),\n",
       "  178.76060485839844),\n",
       " (Document(id='a07a59a4-d7ef-440c-b004-5d5d9b904884', metadata={'source': 'speech.txt'}, page_content='The TSCD layer specializes in modeling Chinese character structures and simulates the key structure component cognition layer in the psychological model.\\n\\nThe residual mechanism in the residual network simulates the bidirectional connections among cognitive layers, maintaining the consistency of information flow.'),\n",
       "  248.67327880859375)]"
      ]
     },
     "execution_count": 14,
     "metadata": {},
     "output_type": "execute_result"
    }
   ],
   "source": [
    "docs = vectordb.similarity_search_with_score(query)\n",
    "docs"
   ]
  },
  {
   "cell_type": "code",
   "execution_count": 17,
   "id": "5465be1c",
   "metadata": {},
   "outputs": [
    {
     "data": {
      "text/plain": [
       "Document(id='f5c5e88c-0224-49b5-af38-7276d0b03f6a', metadata={'source': 'speech.txt'}, page_content='Scene text information extraction plays an important role in many computer vision applications. Most features in existing text extraction algorithms are only applicable to one text extraction stage (text detection or recognition), which significantly weakens the consistency in an end-to-end system, especially for complex Chinese texts.')"
      ]
     },
     "execution_count": 17,
     "metadata": {},
     "output_type": "execute_result"
    }
   ],
   "source": [
    "retriever = vectordb.as_retriever()\n",
    "retriever.invoke(query)[0]"
   ]
  },
  {
   "cell_type": "code",
   "execution_count": null,
   "id": "11a75726",
   "metadata": {},
   "outputs": [],
   "source": []
  }
 ],
 "metadata": {
  "kernelspec": {
   "display_name": "langchain-env",
   "language": "python",
   "name": "python3"
  },
  "language_info": {
   "codemirror_mode": {
    "name": "ipython",
    "version": 3
   },
   "file_extension": ".py",
   "mimetype": "text/x-python",
   "name": "python",
   "nbconvert_exporter": "python",
   "pygments_lexer": "ipython3",
   "version": "3.10.18"
  }
 },
 "nbformat": 4,
 "nbformat_minor": 5
}
